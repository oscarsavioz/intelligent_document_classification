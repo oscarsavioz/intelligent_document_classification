{
 "cells": [
  {
   "cell_type": "code",
   "execution_count": 2,
   "metadata": {
    "collapsed": true
   },
   "outputs": [],
   "source": [
    "import enchant\n",
    "from enchant.checker import SpellChecker\n",
    "\n",
    "file = open('2072197187_ocr.txt', encoding=\"utf8\", mode='r')\n",
    "txt = file.read()\n",
    "file.close()\n",
    "txt = txt.replace('\\n', \" \")\n",
    "\n",
    "def correct_text(text):\n",
    "    d = enchant.Dict(\"en_US\")\n",
    "    checker = SpellChecker(d)\n",
    "    checker.set_text(text)\n",
    "\n",
    "    for err in checker:\n",
    "        # Obtenir les suggestions de correction pour le mot mal orthographié\n",
    "        suggestions = err.suggest()\n",
    "\n",
    "        # Si des suggestions ont été trouvées, utiliser la première (la plus probable)\n",
    "        if suggestions:\n",
    "            correct_word = suggestions[0]\n",
    "            err.replace(correct_word)\n",
    "\n",
    "    # Renvoyer le texte corrigé\n",
    "    return checker.get_text()\n"
   ]
  },
  {
   "cell_type": "code",
   "execution_count": 4,
   "outputs": [
    {
     "name": "stdout",
     "output_type": "stream",
     "text": [
      "*HEIR-13-97 THU 17:59  ‘  f  RAH PUBLIC RELATIONS  FAX NO. 30329660°2  P, 02/02  Thursday, March 13, 1997: The DENVER Post |  i?  THE © DENVER  Post  Founded 1892  resident Clinton, in defending his unorthodox political fund-r;  techniques, has said they were.  ten bear's Reposeful because he had to  stop test publican juggernaut. calling the B the: Dole campaign for pres- idea a Juggernaut (an (an overpowering de- instructive force} that the peris- dent has chuff sore short-term  powering destructive force at work, he might want to drop in on his own Environ- aments) Protection Agency and sec what it F Icing Deterrence nee cites our slanders for ozone and  The EPA is on a panic schedule that  would make the proposed new standards ~  final in fate June. This despite the fact the agency has solemnly said it could not “make sound and legally defensible cedi- sins* on this timetable. Tuesday was the last day for public comment on these standards, which when fully enforced would throw hundreds of communities into “nonalignment status.” The Colorado Association of Commerce  and file comments, said the proposed new Standards would put all metro Denver into “nonalignment* for particulates and ozone, Under existing standards for these compounds, Denver hasn't been in viola- tan for a hummer of years. In addition, CACTI projects that Garfield, Rout, Sum- malt, ar A suit, San Miguel and Weld would be IC violation. By EPA's count, comm 167 counties in the U.S,, some with as few as 10,000 residents, be unable to meet particulate standards. What this sets is that the standards  Fey ear its very title bemoan   Ejecting. F Te, rive p maleate e example, five prominent Democrats in Pines  the U.S, Senate,  together. mel ch concluded, because of the alg surround  cant uncertainty benefits and Impacts of me PES propr! props-  William Oran Gloating, Chainman * Ryan Tribesmen, Publisher, Chief Executive Officer  Dennis A. Gritting, Editor, Executive VP Jeanette Chavez, Editor Sue O'Brien, Baliol of the Electoral Page  ING of particulate matter and ... al- low our states to complete action on  These sentiments, ENE from Demo- cratch, can’t be easily dismissed as the var- ins of people who don't care about ib environment.  Te simple fact 1s that by the EPA's own account the casts of the ozone regulation will far outstrip any health benefits that might be produced.  ne he ch be Lu this public de pug a p be bate. The Office of Management and Bud- an analysis that shows just how. wildly out hack the costs are, but the RR A has for now blocked the publication of those testa be wary damaging: tithe agee effort to issue new standards. . Where else bat in the inner circles of the  Clinton administration docs one agency get to suppress information from  is lacking or incomplete' Sun line Ha is & cant hello anaerobe niches, coly found to be in nonalignment, could ever get out from under the regulator’s If Clinton  3 to j ts, he can begin by slowing bis EPA direct, 1 ten «One on cut ad rata we  The EPA Be  1812612202 \n"
     ]
    }
   ],
   "source": [
    "corrected_text = correct_text(txt)\n",
    "print(corrected_text)\n"
   ],
   "metadata": {
    "collapsed": false
   }
  },
  {
   "cell_type": "code",
   "execution_count": 5,
   "outputs": [
    {
     "name": "stdout",
     "output_type": "stream",
     "text": [
      "*HAR-13-97 THU 17:59  ‘  f  RKH PUBLIC RELATIONS  FAX NO. 30329660°2  P, 02/02  Thursday, March 13, 1997: THe DENVER Post |  i?  THE © DENVER  Post  Founded 1892  resident Clinton, in defending his unorthodox political fund-r;  techniques, has said they were.  tne vear's Repoul because he had to  stop test publican juggernaut. alling the B the: Dole campaign for pres- ideat a Juggernaut (an (an overpowering de- structive force} that the presi- dent has suff sore short-term  powerlng destructive force at work, he might want to drop in on his own Environ- ments) Protection Agency and sce what it Fs Gcing We'derrene neve cites oir slandars for ozone and  The EPA is on a panic schedule that  would make the proposed new standards ~  final in fate June. This despite the fact the agency has solemnly said it could not “make sound and legaily defensible deci- sions* on this timetable. Tuesday was the last day for public comment on these standards, which when fully enforced would throw hundreds of communitles into “nonattalnment status.” The Colorado Association of Commerce  and file comments, said the proposed new Standards would put all metro Denver into “nonaltainment* for particulates and ozone, Under existing standards for these compounds, Denver hasn't been in viola- tlan for a hummber of years. In addition, CACTI projects that Garfield, Routt, Sum- malt, ar A duit, San Miguel and Weld would be ic violation. By EPA's count, comm 167 counties in the U.S,, some with as few as 10,000 residents, be unable to meet particulate standarcs. What this ests is that the standards  Fey eae iTS very litte bemoan   Jecting. F Te, tive p malbeat e example, five prominent Democrats in Pinel  the U.S, Senate,  together. mle te concluded, sBecanse of the alge surroundl  cant uncertainty benefits and Impacts of me EPS propor! propos-  Wiliam Oean Singlotoa, Crzinman * Ryan Meiibben, Publisher, Chief Executive Officer  Dennis A. Grittcn, Editor, Executive VP Jeanette Chavez, Editor Sue O'Brian, Balior ofthe Eltoral Page  ing of particulate matter and ... al- low our states to complete action on  These sentiments, ene from Demo- crats, can’t be easily dismissed as the rav- ings of people who don't care about ibe environment.  Te simple fact 1s that by the EPA's own accoun the casts of the ozone regulation will far outstrip any health benefits that might be produced.  ne he te be Loe this public de oug a p be bate. The Office of Management and Bud- an analysis that shows just how. wildly out hack the costs are, but the rr A has for now blocked the publication of those teeta be wary demaging: tothe ager effort to issue new standards. . Where else bat inthe inner circles of the  Clinton administration docs one agency get to suppress information from  is lacking or incomple' Sunline Har is & cant eheloe anaaer nities, cewly found to be in nonaltainment, could ever get out from under the regulator’s If Cilnton  3 to j ts, he can begin by slowing bis EPA direct, 1 etn «One on ctu ad tara we  The EPA Be  1812612202 \n"
     ]
    }
   ],
   "source": [
    "print(txt)\n"
   ],
   "metadata": {
    "collapsed": false
   }
  },
  {
   "cell_type": "code",
   "execution_count": null,
   "outputs": [],
   "source": [],
   "metadata": {
    "collapsed": false
   }
  }
 ],
 "metadata": {
  "kernelspec": {
   "display_name": "Python 3",
   "language": "python",
   "name": "python3"
  },
  "language_info": {
   "codemirror_mode": {
    "name": "ipython",
    "version": 2
   },
   "file_extension": ".py",
   "mimetype": "text/x-python",
   "name": "python",
   "nbconvert_exporter": "python",
   "pygments_lexer": "ipython2",
   "version": "2.7.6"
  }
 },
 "nbformat": 4,
 "nbformat_minor": 0
}
