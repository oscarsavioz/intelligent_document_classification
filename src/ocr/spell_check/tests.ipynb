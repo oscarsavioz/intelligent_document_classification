{
 "cells": [
  {
   "cell_type": "code",
   "execution_count": 44,
   "outputs": [
    {
     "name": "stdout",
     "output_type": "stream",
     "text": [
      "0\n"
     ]
    },
    {
     "name": "stderr",
     "output_type": "stream",
     "text": [
      "[nltk_data] Downloading package words to\n",
      "[nltk_data]     C:\\Users\\Oscar\\AppData\\Roaming\\nltk_data...\n",
      "[nltk_data]   Package words is already up-to-date!\n"
     ]
    },
    {
     "ename": "TypeError",
     "evalue": "'int' object is not subscriptable",
     "output_type": "error",
     "traceback": [
      "\u001B[1;31m---------------------------------------------------------------------------\u001B[0m",
      "\u001B[1;31mTypeError\u001B[0m                                 Traceback (most recent call last)",
      "Input \u001B[1;32mIn [44]\u001B[0m, in \u001B[0;36m<module>\u001B[1;34m\u001B[0m\n\u001B[0;32m     43\u001B[0m \u001B[38;5;28;01mfor\u001B[39;00m word \u001B[38;5;129;01min\u001B[39;00m wrong_tokens:\n\u001B[0;32m     44\u001B[0m     \u001B[38;5;28mprint\u001B[39m(word)\n\u001B[1;32m---> 45\u001B[0m     temp \u001B[38;5;241m=\u001B[39m [(jaccard_distance(\u001B[38;5;28mset\u001B[39m(ngrams(word[\u001B[38;5;241m1\u001B[39m], \u001B[38;5;241m2\u001B[39m)), \u001B[38;5;28mset\u001B[39m(ngrams(w, \u001B[38;5;241m2\u001B[39m))), w) \u001B[38;5;28;01mfor\u001B[39;00m w \u001B[38;5;129;01min\u001B[39;00m correct_words \u001B[38;5;28;01mif\u001B[39;00m w[\u001B[38;5;241m0\u001B[39m] \u001B[38;5;241m==\u001B[39m word[\u001B[38;5;241m1\u001B[39m]]\n\u001B[0;32m     46\u001B[0m     \u001B[38;5;28;01mif\u001B[39;00m temp:  \u001B[38;5;66;03m# check if temp is not empty\u001B[39;00m\n\u001B[0;32m     47\u001B[0m         corr \u001B[38;5;241m=\u001B[39m \u001B[38;5;28msorted\u001B[39m(temp, key \u001B[38;5;241m=\u001B[39m \u001B[38;5;28;01mlambda\u001B[39;00m val:val[\u001B[38;5;241m0\u001B[39m])[\u001B[38;5;241m0\u001B[39m][\u001B[38;5;241m1\u001B[39m]\n",
      "Input \u001B[1;32mIn [44]\u001B[0m, in \u001B[0;36m<listcomp>\u001B[1;34m(.0)\u001B[0m\n\u001B[0;32m     43\u001B[0m \u001B[38;5;28;01mfor\u001B[39;00m word \u001B[38;5;129;01min\u001B[39;00m wrong_tokens:\n\u001B[0;32m     44\u001B[0m     \u001B[38;5;28mprint\u001B[39m(word)\n\u001B[1;32m---> 45\u001B[0m     temp \u001B[38;5;241m=\u001B[39m [(jaccard_distance(\u001B[38;5;28mset\u001B[39m(ngrams(word[\u001B[38;5;241m1\u001B[39m], \u001B[38;5;241m2\u001B[39m)), \u001B[38;5;28mset\u001B[39m(ngrams(w, \u001B[38;5;241m2\u001B[39m))), w) \u001B[38;5;28;01mfor\u001B[39;00m w \u001B[38;5;129;01min\u001B[39;00m correct_words \u001B[38;5;28;01mif\u001B[39;00m w[\u001B[38;5;241m0\u001B[39m] \u001B[38;5;241m==\u001B[39m \u001B[43mword\u001B[49m\u001B[43m[\u001B[49m\u001B[38;5;241;43m1\u001B[39;49m\u001B[43m]\u001B[49m]\n\u001B[0;32m     46\u001B[0m     \u001B[38;5;28;01mif\u001B[39;00m temp:  \u001B[38;5;66;03m# check if temp is not empty\u001B[39;00m\n\u001B[0;32m     47\u001B[0m         corr \u001B[38;5;241m=\u001B[39m \u001B[38;5;28msorted\u001B[39m(temp, key \u001B[38;5;241m=\u001B[39m \u001B[38;5;28;01mlambda\u001B[39;00m val:val[\u001B[38;5;241m0\u001B[39m])[\u001B[38;5;241m0\u001B[39m][\u001B[38;5;241m1\u001B[39m]\n",
      "\u001B[1;31mTypeError\u001B[0m: 'int' object is not subscriptable"
     ]
    }
   ],
   "source": [
    "import nltk\n",
    "from nltk.metrics.distance import jaccard_distance\n",
    "from nltk.util import ngrams\n",
    "from nltk.corpus import wordnet as WN\n",
    "from nltk.corpus import stopwords\n",
    "from nltk.corpus import words\n",
    "\n",
    "nltk.download('words')\n",
    "stop_words_en = set(stopwords.words('english'))\n",
    "correct_words = words.words()\n",
    "\n",
    "\n",
    "def tokenize(sent):\n",
    "        return nltk.word_tokenize(sent)\n",
    "\n",
    "def SpellChecker(line):\n",
    "    final_tokens = {}\n",
    "    incorrect_tokens = {}\n",
    "    for index, i in enumerate(tokenize(line)):\n",
    "        strip = i.rstrip()\n",
    "        if not WN.synsets(strip):\n",
    "            incorrect_tokens[index] = strip\n",
    "        else:\n",
    "           final_tokens[index] = strip\n",
    "    return final_tokens, incorrect_tokens\n",
    "\n",
    "def removePunct(str):\n",
    "        return  \"\".join(c for c in str if c not in ('!','.',':',','))\n",
    "\n",
    "\n",
    "file = open('2072197187_ocr.txt', encoding=\"utf8\", mode='r')\n",
    "txt = file.read()\n",
    "file.close()\n",
    "txt = txt.replace('\\n', \" \")\n",
    "\n",
    "tokens = tokenize(txt)\n",
    "\n",
    "str_tokens = ' '.join(tokens)\n",
    "str_tokens = removePunct(str_tokens)\n",
    "\n",
    "valid_tokens, wrong_tokens = SpellChecker(str_tokens.lower())\n",
    "\n",
    "for word in wrong_tokens:\n",
    "    print(word)\n",
    "    temp = [(jaccard_distance(set(ngrams(word[1], 2)), set(ngrams(w, 2))), w) for w in correct_words if w[0] == word[1]]\n",
    "    if temp:  # check if temp is not empty\n",
    "        corr = sorted(temp, key = lambda val:val[0])[0][1]\n",
    "        word[1] = corr"
   ],
   "metadata": {
    "collapsed": false
   }
  },
  {
   "cell_type": "code",
   "execution_count": null,
   "outputs": [],
   "source": [],
   "metadata": {
    "collapsed": false
   }
  }
 ],
 "metadata": {
  "kernelspec": {
   "display_name": "Python 3",
   "language": "python",
   "name": "python3"
  },
  "language_info": {
   "codemirror_mode": {
    "name": "ipython",
    "version": 2
   },
   "file_extension": ".py",
   "mimetype": "text/x-python",
   "name": "python",
   "nbconvert_exporter": "python",
   "pygments_lexer": "ipython2",
   "version": "2.7.6"
  }
 },
 "nbformat": 4,
 "nbformat_minor": 0
}
